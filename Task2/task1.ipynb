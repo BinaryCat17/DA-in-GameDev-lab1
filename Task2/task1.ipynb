{
 "cells": [
  {
   "cell_type": "code",
   "execution_count": 2,
   "metadata": {},
   "outputs": [],
   "source": [
    "import gspread\n",
    "import numpy as np\n",
    "gc = gspread.service_account(filename='unity-364412-884913d29871.json')\n",
    "sh = gc.open(\"UnityTable\").worksheet('Задание1')"
   ]
  },
  {
   "cell_type": "code",
   "execution_count": 5,
   "metadata": {},
   "outputs": [],
   "source": [
    "price = np.random.randint(2000, 10000, 11)\n",
    "\n",
    "for i in range(1,11):\n",
    "    inf = ((price[i]-price[i-1])/price[i-1])*100\n",
    "\n",
    "    sh.update(('A' + str(i+1)), str(i))\n",
    "    sh.update(('B' + str(i+1)), str(price[i]))\n",
    "    sh.update(('C' + str(i+1)), f\"{inf:.3f}\".replace('.',','))"
   ]
  }
 ],
 "metadata": {
  "kernelspec": {
   "display_name": "Python 3.10.6 ('edu')",
   "language": "python",
   "name": "python3"
  },
  "language_info": {
   "codemirror_mode": {
    "name": "ipython",
    "version": 3
   },
   "file_extension": ".py",
   "mimetype": "text/x-python",
   "name": "python",
   "nbconvert_exporter": "python",
   "pygments_lexer": "ipython3",
   "version": "3.10.6"
  },
  "orig_nbformat": 4,
  "vscode": {
   "interpreter": {
    "hash": "c895cc40e6897be9b084758d4e91c90a8591a648cca1e8d27bd41b82a5b6a230"
   }
  }
 },
 "nbformat": 4,
 "nbformat_minor": 2
}
